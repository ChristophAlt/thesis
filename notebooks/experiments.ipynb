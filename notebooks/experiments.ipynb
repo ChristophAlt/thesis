{
 "cells": [
  {
   "cell_type": "code",
   "execution_count": 1,
   "metadata": {
    "tags": []
   },
   "outputs": [],
   "source": [
    "%matplotlib inline\n",
    "\n",
    "import json\n",
    "import math\n",
    "\n",
    "import numpy as np\n",
    "import matplotlib.pyplot as plt\n",
    "import yaml\n",
    "\n",
    "from abc import ABC, abstractmethod\n",
    "from itertools import groupby\n",
    "from collections import defaultdict\n",
    "from experiment import *"
   ]
  },
  {
   "cell_type": "code",
   "execution_count": 2,
   "metadata": {},
   "outputs": [],
   "source": [
    "with open('config.yaml') as f:\n",
    "    config = yaml.load(f, Loader=yaml.FullLoader)"
   ]
  },
  {
   "cell_type": "code",
   "execution_count": 3,
   "metadata": {
    "tags": []
   },
   "outputs": [],
   "source": [
    "for key in config:\n",
    "    globals()[str(key)] = config[str(key)]"
   ]
  },
  {
   "cell_type": "code",
   "execution_count": 4,
   "metadata": {
    "tags": []
   },
   "outputs": [],
   "source": [
    "parser_spark = PrefixExperimentLogParser(prefix='EXPERIMENT|', parameters=['eta', 'lambda', 'localIterFrac', 'numSplits'])\n",
    "parser_local = PrefixExperimentLogParser(prefix='EXPERIMENT|', parameters=['eta', 'lambda', 'localIterFrac', 'numSplits'])\n",
    "parser_fw = PrefixExperimentLogParser(prefix='EXPERIMENT|', parameters=['eta', 'lambda', 'localIterFrac', 'numSplits'])\n",
    "parser_fw_2 = PrefixDriverWithExperimentLogParser(prefix='EXPERIMENT|', parameters=['eta', 'lambda', 'localIterFrac', 'numSplits'])"
   ]
  },
  {
   "cell_type": "code",
   "execution_count": 5,
   "metadata": {},
   "outputs": [],
   "source": [
    "#plotter = ExperimentLogPlotter()\n",
    "#plotter.add_experiment(parser_local.parse(input_path_local), name='Local', every_n=20)\n",
    "#plotter.add_experiment(parser_spark.parse(input_path_spark), name='Spark', every_n=50)\n",
    "#plotter.ylabel(r'Suboptimality: $O_B(w) - O_B(w^*)$')\n",
    "#plotter.ylim(1e-4)\n",
    "#plotter.figsize((8, 6))\n",
    "#plotter.title('Epsilon - Suboptimality vs. Time')\n",
    "#plotter.plot()"
   ]
  },
  {
   "cell_type": "code",
   "execution_count": 6,
   "metadata": {},
   "outputs": [
    {
     "ename": "FileNotFoundError",
     "evalue": "[Errno 2] No such file or directory: '/home/eugene/thesis/experiment_results/spark/exp_spark_url_h1.txt'",
     "output_type": "error",
     "traceback": [
      "\u001b[0;31m---------------------------------------------------------------------------\u001b[0m",
      "\u001b[0;31mFileNotFoundError\u001b[0m                         Traceback (most recent call last)",
      "\u001b[0;32m/tmp/ipykernel_13928/3641873002.py\u001b[0m in \u001b[0;36m<module>\u001b[0;34m\u001b[0m\n\u001b[1;32m      1\u001b[0m \u001b[0mplotter\u001b[0m \u001b[0;34m=\u001b[0m \u001b[0mExperimentLogPlotter\u001b[0m\u001b[0;34m(\u001b[0m\u001b[0;34m)\u001b[0m\u001b[0;34m\u001b[0m\u001b[0;34m\u001b[0m\u001b[0m\n\u001b[0;32m----> 2\u001b[0;31m \u001b[0mplotter\u001b[0m\u001b[0;34m.\u001b[0m\u001b[0madd_experiment\u001b[0m\u001b[0;34m(\u001b[0m\u001b[0mparser_spark\u001b[0m\u001b[0;34m.\u001b[0m\u001b[0mparse\u001b[0m\u001b[0;34m(\u001b[0m\u001b[0minput_path_url_spark\u001b[0m\u001b[0;34m)\u001b[0m\u001b[0;34m,\u001b[0m \u001b[0;34m'Spark'\u001b[0m\u001b[0;34m,\u001b[0m \u001b[0mevery_n\u001b[0m\u001b[0;34m=\u001b[0m\u001b[0;36m100\u001b[0m\u001b[0;34m)\u001b[0m\u001b[0;34m\u001b[0m\u001b[0;34m\u001b[0m\u001b[0m\n\u001b[0m\u001b[1;32m      3\u001b[0m \u001b[0mplotter\u001b[0m\u001b[0;34m.\u001b[0m\u001b[0madd_experiment\u001b[0m\u001b[0;34m(\u001b[0m\u001b[0mparser_fw\u001b[0m\u001b[0;34m.\u001b[0m\u001b[0mparse\u001b[0m\u001b[0;34m(\u001b[0m\u001b[0minput_path_url_exa\u001b[0m\u001b[0;34m,\u001b[0m \u001b[0mno_params\u001b[0m\u001b[0;34m=\u001b[0m\u001b[0;32mTrue\u001b[0m\u001b[0;34m)\u001b[0m\u001b[0;34m,\u001b[0m \u001b[0;34m'Framework'\u001b[0m\u001b[0;34m,\u001b[0m \u001b[0mevery_n\u001b[0m\u001b[0;34m=\u001b[0m\u001b[0;36m100\u001b[0m\u001b[0;34m)\u001b[0m\u001b[0;34m\u001b[0m\u001b[0;34m\u001b[0m\u001b[0m\n\u001b[1;32m      4\u001b[0m \u001b[0mplotter\u001b[0m\u001b[0;34m.\u001b[0m\u001b[0mylabel\u001b[0m\u001b[0;34m(\u001b[0m\u001b[0;34mr'Suboptimality: $O_B(w) - O_B(w^*)$'\u001b[0m\u001b[0;34m)\u001b[0m\u001b[0;34m\u001b[0m\u001b[0;34m\u001b[0m\u001b[0m\n\u001b[1;32m      5\u001b[0m \u001b[0mplotter\u001b[0m\u001b[0;34m.\u001b[0m\u001b[0mylim\u001b[0m\u001b[0;34m(\u001b[0m\u001b[0;36m1e-4\u001b[0m\u001b[0;34m)\u001b[0m\u001b[0;34m\u001b[0m\u001b[0;34m\u001b[0m\u001b[0m\n",
      "\u001b[0;32m~/thesis/notebooks/experiment.py\u001b[0m in \u001b[0;36mparse\u001b[0;34m(self, file_path, no_params)\u001b[0m\n\u001b[1;32m     85\u001b[0m \u001b[0;34m\u001b[0m\u001b[0m\n\u001b[1;32m     86\u001b[0m     \u001b[0;32mdef\u001b[0m \u001b[0mparse\u001b[0m\u001b[0;34m(\u001b[0m\u001b[0mself\u001b[0m\u001b[0;34m,\u001b[0m \u001b[0mfile_path\u001b[0m\u001b[0;34m:\u001b[0m \u001b[0mstr\u001b[0m\u001b[0;34m,\u001b[0m \u001b[0mno_params\u001b[0m\u001b[0;34m:\u001b[0m \u001b[0mbool\u001b[0m \u001b[0;34m=\u001b[0m\u001b[0;32mFalse\u001b[0m\u001b[0;34m)\u001b[0m \u001b[0;34m->\u001b[0m \u001b[0mExperiment\u001b[0m\u001b[0;34m:\u001b[0m\u001b[0;34m\u001b[0m\u001b[0;34m\u001b[0m\u001b[0m\n\u001b[0;32m---> 87\u001b[0;31m         \u001b[0;32mwith\u001b[0m \u001b[0mopen\u001b[0m\u001b[0;34m(\u001b[0m\u001b[0mfile_path\u001b[0m\u001b[0;34m,\u001b[0m \u001b[0;34m'r'\u001b[0m\u001b[0;34m)\u001b[0m \u001b[0;32mas\u001b[0m \u001b[0mf\u001b[0m\u001b[0;34m:\u001b[0m\u001b[0;34m\u001b[0m\u001b[0;34m\u001b[0m\u001b[0m\n\u001b[0m\u001b[1;32m     88\u001b[0m             \u001b[0mlines\u001b[0m \u001b[0;34m=\u001b[0m \u001b[0mPrefixExperimentLogParser\u001b[0m\u001b[0;34m.\u001b[0m\u001b[0mfilter_lines\u001b[0m\u001b[0;34m(\u001b[0m\u001b[0mf\u001b[0m\u001b[0;34m.\u001b[0m\u001b[0mreadlines\u001b[0m\u001b[0;34m(\u001b[0m\u001b[0;34m)\u001b[0m\u001b[0;34m,\u001b[0m \u001b[0mself\u001b[0m\u001b[0;34m.\u001b[0m\u001b[0m__prefix\u001b[0m\u001b[0;34m)\u001b[0m\u001b[0;34m\u001b[0m\u001b[0;34m\u001b[0m\u001b[0m\n\u001b[1;32m     89\u001b[0m \u001b[0;34m\u001b[0m\u001b[0m\n",
      "\u001b[0;31mFileNotFoundError\u001b[0m: [Errno 2] No such file or directory: '/home/eugene/thesis/experiment_results/spark/exp_spark_url_h1.txt'"
     ]
    }
   ],
   "source": [
    "plotter = ExperimentLogPlotter()\n",
    "plotter.add_experiment(parser_spark.parse(input_path_url_spark), 'Spark', every_n=100)\n",
    "plotter.add_experiment(parser_fw.parse(input_path_url_exa, no_params=True), 'Framework', every_n=100)\n",
    "plotter.ylabel(r'Suboptimality: $O_B(w) - O_B(w^*)$')\n",
    "plotter.ylim(1e-4)\n",
    "plotter.plot()"
   ]
  },
  {
   "cell_type": "code",
   "execution_count": null,
   "metadata": {},
   "outputs": [],
   "source": [
    "plotter = ExperimentDoubleLogPlotter()\n",
    "plotter.add_experiment(parser_local.parse(input_path_local), name='Local', every_n=20)\n",
    "plotter.add_experiment(parser_spark.parse(input_path_spark), name='Spark', every_n=50)\n",
    "plotter.add_experiment(parser_fw.parse(input_path_exa, no_params=True), name='Framework', every_n=100)\n",
    "plotter.add_experiment(parser_fw_2.parse(input_path_exa_driver_2, input_path_exa_2), subplot=2, name='Framework SSP=3, H=0.1', every_n=100)\n",
    "plotter.add_experiment(parser_fw_2.parse(input_path_exa_driver_3, input_path_exa_3), subplot=2, name='Framework SSP=3, H=0.05', every_n=100)\n",
    "plotter.ylabel(r'Suboptimality: $O_B(w) - O_B(w^*)$')\n",
    "plotter.ylim(1e-4)\n",
    "plotter.figsize((14, 6))\n",
    "plotter.title('Epsilon - Suboptimality vs. Time', subplot=1)\n",
    "plotter.title('URL - Suboptimality vs. Time', subplot=2)\n",
    "plotter.plot()"
   ]
  },
  {
   "cell_type": "markdown",
   "metadata": {},
   "source": [
    "# Experiments"
   ]
  },
  {
   "cell_type": "markdown",
   "metadata": {},
   "source": [
    "## Algorithm Performance"
   ]
  },
  {
   "cell_type": "code",
   "execution_count": null,
   "metadata": {},
   "outputs": [],
   "source": [
    "parser_spark = PrefixExperimentLogParser(prefix='EXPERIMENT|', parameters=['eta', 'lambda', 'localIterFrac', 'numSplits'])\n",
    "parser_local = PrefixExperimentLogParser(prefix='', parameters=['eta', 'lambda', 'localIterFrac', 'numSplits'])\n",
    "parser_local_2 = PrefixExperimentLogParser(prefix='EXPERIMENT|', parameters=['eta', 'lambda', 'localIterFrac', 'numSplits'])\n",
    "parser_framework = PrefixDriverWithExperimentLogParser(prefix='EXPERIMENT|', parameters=['eta', 'lambda', 'localIterFrac', 'numSplits'])\n",
    "parser_framework_2 = PrefixExperimentLogParser(prefix='EXPERIMENT|', parameters=['eta', 'lambda', 'localIterFrac', 'numSplits'])\n",
    "parser_framework_driver = PrefixDriverWithExperimentLogParser(prefix='EXPERIMENT|', parameters=['eta', 'lambda', 'localIterFrac', 'numSplits'])"
   ]
  },
  {
   "cell_type": "markdown",
   "metadata": {},
   "source": [
    "### Figure"
   ]
  },
  {
   "cell_type": "code",
   "execution_count": null,
   "metadata": {},
   "outputs": [],
   "source": [
    "plotter = ExperimentDoubleLogPlotter()\n",
    "# Epsilon\n",
    "plotter.add_experiment(parser_local.parse(alg_epsilon_local_path), subplot=1, name='Baseline', every_n=1)\n",
    "plotter.add_experiment(parser_spark.parse(alg_epsilon_spark_path), subplot=1, name='Spark', every_n=5)\n",
    "plotter.add_experiment(parser_framework_2.parse(alg_epsilon_framework_path, no_params=True), subplot=1, name='ExaML', every_n=5)\n",
    "# URL\n",
    "plotter.add_experiment(parser_local_2.parse(alg_url_local_path), subplot=2, name='Baseline', every_n=10)\n",
    "plotter.add_experiment(parser_spark.parse(alg_url_spark_path), subplot=2, name='Spark', every_n=50)\n",
    "plotter.add_experiment(parser_framework_2.parse(alg_url_framework_path, no_params=True), subplot=2, name='ExaML', every_n=100)\n",
    "\n",
    "plotter.ylabel(r'Suboptimality: $O_B(\\alpha) - O_B(\\alpha^*)$')\n",
    "plotter.ylim(5e-4)\n",
    "plotter.figsize((14, 6))\n",
    "plotter.title('Epsilon - Suboptimality vs. Time', subplot=1)\n",
    "plotter.title('URL - Suboptimality vs. Time', subplot=2)\n",
    "#plotter.use_iterations()\n",
    "\n",
    "plotter.add_min_objectives(objective=0.21720414, subplot=1)\n",
    "plotter.add_min_objectives(objective=0.045041505, subplot=2)\n",
    "\n",
    "plotter.plot(filename='./../img/overall_perf_cmp.png',)"
   ]
  },
  {
   "cell_type": "markdown",
   "metadata": {},
   "source": [
    "## Communication Frequency"
   ]
  },
  {
   "cell_type": "markdown",
   "metadata": {},
   "source": [
    "### Figure"
   ]
  },
  {
   "cell_type": "code",
   "execution_count": null,
   "metadata": {},
   "outputs": [],
   "source": [
    "plotter = ExperimentDoubleLogPlotter()\n",
    "# Epsilon\n",
    "plotter.add_experiment(parser_spark.parse(comm_epsilon_spark_h1_path), subplot=1, name='Spark - H:1.0', every_n=10)\n",
    "plotter.add_experiment(parser_spark.parse(comm_epsilon_spark_h01_path), subplot=1, name='Spark - H:0.1', every_n=50)\n",
    "plotter.add_experiment(parser_framework_2.parse(comm_epsilon_framework_h1_path, no_params=True), subplot=1, name='ExaML - H:1.0', every_n=10)\n",
    "plotter.add_experiment(parser_framework_2.parse(comm_epsilon_framework_h05_path, no_params=True), subplot=1, name='ExaML - H:0.5', every_n=20)\n",
    "plotter.add_experiment(parser_framework_2.parse(comm_epsilon_framework_h01_path, no_params=True), subplot=1, name='ExaML - H:0.1', every_n=50)\n",
    "#plotter.add_experiment(parser_framework_2.parse(comm_epsilon_framework_h005_path, no_params=True), subplot=1, name='Framework - H:0.05', every_n=100)\n",
    "\n",
    "# URL\n",
    "plotter.add_experiment(parser_spark.parse(comm_url_spark_h1_path), subplot=2, name='Spark - H:1.0', every_n=20)\n",
    "plotter.add_experiment(parser_spark.parse(comm_url_spark_h01_path), subplot=2, name='Spark - H:0.1', every_n=50)\n",
    "plotter.add_experiment(parser_framework_2.parse(comm_url_framework_h1_path, no_params=True), subplot=2, name='ExaML - H:1.0', every_n=20)\n",
    "plotter.add_experiment(parser_framework_2.parse(comm_url_framework_h05_path, no_params=True), subplot=2, name='ExaML - H:0.5', every_n=50)\n",
    "plotter.add_experiment(parser_framework_2.parse(comm_url_framework_h02_path, no_params=True), subplot=2, name='ExaML - H:0.2', every_n=200)\n",
    "\n",
    "plotter.ylabel(r'Suboptimality: $O_B(\\alpha) - O_B(\\alpha^*)$')\n",
    "plotter.ylim(5e-4)\n",
    "plotter.figsize((14, 6))\n",
    "plotter.title('Epsilon - Suboptimality vs. Time', subplot=1)\n",
    "plotter.title('URL - Suboptimality vs. Time', subplot=2)\n",
    "#plotter.use_iterations()\n",
    "\n",
    "plotter.add_min_objectives(objective=0.21719499, subplot=1)\n",
    "plotter.add_min_objectives(objective=0.04503669, subplot=2)\n",
    "\n",
    "plotter.plot(filename='./../img/comm_freq_cmp.png')"
   ]
  },
  {
   "cell_type": "markdown",
   "metadata": {},
   "source": [
    "## Syncronization Strategy"
   ]
  },
  {
   "cell_type": "code",
   "execution_count": null,
   "metadata": {},
   "outputs": [],
   "source": [
    "sst_epsilon_framework_bsp = config['sst_epsilon_framework_bsp']\n",
    "sst_epsilon_framework_ssp = config['sst_epsilon_framework_ssp']\n",
    "sst_epsilon_framework_tap = config['sst_epsilon_framework_tap']"
   ]
  },
  {
   "cell_type": "markdown",
   "metadata": {},
   "source": [
    "### Figure"
   ]
  },
  {
   "cell_type": "code",
   "execution_count": null,
   "metadata": {},
   "outputs": [],
   "source": [
    "plotter = ExperimentDoubleLogPlotter()\n",
    "# Epsilon\n",
    "plotter.add_experiment(parser_framework_2.parse(sst_epsilon_framework_bsp, no_params=True), subplot=1, name='BSP', every_n=50)\n",
    "plotter.add_experiment(parser_framework_2.parse(sst_epsilon_framework_ssp, no_params=True), subplot=1, name='SSP', every_n=100)\n",
    "plotter.add_experiment(parser_framework_2.parse(sst_epsilon_framework_tap, no_params=True), subplot=1, name='TAP', every_n=100)\n",
    "# URL\n",
    "plotter.add_experiment(parser_spark.parse(sst_url_framework_bsp, no_params=True), subplot=2, name='BSP', every_n=100)\n",
    "plotter.add_experiment(parser_spark.parse(sst_url_framework_ssp, no_params=True), subplot=2, name='SSP', every_n=50)\n",
    "plotter.add_experiment(parser_spark.parse(sst_url_framework_tap, no_params=True), subplot=2, name='TAP', every_n=100)\n",
    "\n",
    "plotter.ylabel(r'Suboptimality: $O_B(\\alpha) - O_B(\\alpha^*)$')\n",
    "plotter.ylim(5e-4)\n",
    "plotter.figsize((14, 6))\n",
    "plotter.title('Epsilon - Suboptimality vs. Time', subplot=1)\n",
    "plotter.title('URL - Suboptimality vs. Time', subplot=2)\n",
    "#plotter.use_iterations()\n",
    "\n",
    "plotter.add_min_objectives(objective=0.21719526, subplot=1)\n",
    "plotter.add_min_objectives(objective=0.046094768, subplot=2)\n",
    "\n",
    "plotter.plot(filename='./../img/sync_strat_cmp.png')"
   ]
  },
  {
   "cell_type": "markdown",
   "metadata": {},
   "source": [
    "## Merging Strategy"
   ]
  },
  {
   "cell_type": "markdown",
   "metadata": {},
   "source": [
    "### Figure"
   ]
  },
  {
   "cell_type": "code",
   "execution_count": null,
   "metadata": {},
   "outputs": [],
   "source": [
    "plotter = ExperimentDoubleLogPlotter()\n",
    "# Epsilon\n",
    "plotter.add_experiment(parser_framework_2.parse(merg_epsilon_add, no_params=True), subplot=1, name=r'Adding', every_n=10)\n",
    "plotter.add_experiment(parser_framework_2.parse(merg_epsilon_avg, no_params=True), subplot=1, name='Averaging', every_n=10)\n",
    "# URL\n",
    "plotter.add_experiment(parser_framework_2.parse(merg_url_add, no_params=True), subplot=2, name='Adding', every_n=50)\n",
    "plotter.add_experiment(parser_framework_2.parse(merg_url_avg, no_params=True), subplot=2, name='Averaging', every_n=50)\n",
    "\n",
    "plotter.ylabel(r'Suboptimality: $O_B(\\alpha) - O_B(\\alpha^*)$')\n",
    "plotter.ylim(5e-4)\n",
    "plotter.figsize((14, 6))\n",
    "plotter.title('Epsilon - Suboptimality vs. Time', subplot=1)\n",
    "plotter.title('URL - Suboptimality vs. Time', subplot=2)\n",
    "#plotter.use_iterations()\n",
    "\n",
    "plotter.add_min_objectives(objective=0.21497042, subplot=1)\n",
    "plotter.add_min_objectives(objective=0.045502, subplot=2)\n",
    "\n",
    "plotter.plot(filename='./../img/merg_strat_cmp.png')"
   ]
  },
  {
   "cell_type": "markdown",
   "metadata": {},
   "source": [
    "## Filter Strategy"
   ]
  },
  {
   "cell_type": "markdown",
   "metadata": {},
   "source": [
    "### Figure"
   ]
  },
  {
   "cell_type": "code",
   "execution_count": null,
   "metadata": {},
   "outputs": [],
   "source": [
    "plotter = ExperimentLogPlotter()\n",
    "# UR\n",
    "plotter.add_experiment(parser_framework_2.parse(filt_url_baseline, no_params=True), name='Baseline', every_n=20)\n",
    "plotter.add_experiment(parser_framework_2.parse(filt_url_rr, no_params=True), name='Round Robin', every_n=20)\n",
    "plotter.add_experiment(parser_framework_2.parse(filt_url_rnd, no_params=True), name='Random', every_n=20)\n",
    "plotter.add_experiment(parser_framework_2.parse(filt_url_am, no_params=True), name='Absolute Magnitude', every_n=20)\n",
    "plotter.add_experiment(parser_framework_2.parse(filt_url_rm, no_params=True), name='Relative Magnitude', every_n=20)\n",
    "\n",
    "plotter.ylabel(r'Suboptimality: $O_B(\\alpha) - O_B(\\alpha^*)$')\n",
    "plotter.ylim(5e-4)\n",
    "plotter.figsize((7, 6))\n",
    "plotter.title('Epsilon - Suboptimality vs. Time')\n",
    "plotter.title('URL - Suboptimality vs. Time')\n",
    "#plotter.use_iterations()\n",
    "plotter.add_min_objective(0.045502)\n",
    "\n",
    "plotter.plot(filename='./../img/filter_strat_cmp.png')"
   ]
  },
  {
   "cell_type": "code",
   "execution_count": null,
   "metadata": {},
   "outputs": [],
   "source": []
  }
 ],
 "metadata": {
  "kernelspec": {
   "display_name": "Python 3 (ipykernel)",
   "language": "python",
   "name": "python3"
  },
  "language_info": {
   "codemirror_mode": {
    "name": "ipython",
    "version": 3
   },
   "file_extension": ".py",
   "mimetype": "text/x-python",
   "name": "python",
   "nbconvert_exporter": "python",
   "pygments_lexer": "ipython3",
   "version": "3.8.8"
  }
 },
 "nbformat": 4,
 "nbformat_minor": 4
}
